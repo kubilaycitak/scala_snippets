{
  "nbformat": 4,
  "nbformat_minor": 0,
  "metadata": {
    "colab": {
      "name": "Scala Snippets",
      "provenance": [],
      "collapsed_sections": [
        "up2G8zDbhsEN",
        "sL1Vq6r6J6dA",
        "rKC7qVeNERA0",
        "vdlKXxSZ-x2s",
        "Eeoqr12MFB1O",
        "UaSdNm_wefYD",
        "b2wZC2Skemiy",
        "Kw0NoerA0Pmf",
        "O3aXxRBpJR1P",
        "rDsBc_20LlIh",
        "vJ2OvAqqLFCv",
        "8E8UaCz_LpUs",
        "1e05igxU67VT",
        "04fxnS6-8V8f",
        "gbLT09oKAfOb",
        "GAok1E5cDCr_",
        "BxDOHiOIF57o",
        "E6z4FncBauWS",
        "cOC9xd3FcnLQ",
        "ioZvEhQ7wIHN"
      ],
      "toc_visible": true,
      "include_colab_link": true
    },
    "kernelspec": {
      "display_name": "Scala",
      "language": "scala",
      "name": "scala"
    }
  },
  "cells": [
    {
      "cell_type": "markdown",
      "metadata": {
        "id": "view-in-github",
        "colab_type": "text"
      },
      "source": [
        "<a href=\"https://colab.research.google.com/github/kubilaycitak/scala_snippets/blob/main/Scala_Snippets.ipynb\" target=\"_parent\"><img src=\"https://colab.research.google.com/assets/colab-badge.svg\" alt=\"Open In Colab\"/></a>"
      ]
    },
    {
      "cell_type": "markdown",
      "metadata": {
        "id": "up2G8zDbhsEN"
      },
      "source": [
        "# Scala Snippets\n",
        "In this notebook, you can find some useful code snippets for Scala.\n",
        "\n",
        "Snippets are wrapped by curly brackets in order to suppress printing of variable values, in real life codes those curly brackets can and should be removed.\n",
        "\n",
        " #thisCouldHaveBeenAMediumArticle"
      ]
    },
    {
      "cell_type": "markdown",
      "metadata": {
        "id": "sL1Vq6r6J6dA"
      },
      "source": [
        "## Installing the Scala Kernel"
      ]
    },
    {
      "cell_type": "markdown",
      "metadata": {
        "id": "mdxSI1Qv-1oi"
      },
      "source": [
        "Before running anything in the notebook, run 2 snippets below and go to ***Runtime > Change Runtime Type*** and make sure \"Scala\" and \"None\" options are selected. Even everything was correct in the first place, still hit the save button and let the notebook reconnect."
      ]
    },
    {
      "cell_type": "code",
      "metadata": {
        "id": "RoCcdvTCAqeR"
      },
      "source": [
        "%%capture\n",
        "%%shell\n",
        "SCALA_VERSION=2.12.8 ALMOND_VERSION=0.3.0+16-548dc10f-SNAPSHOT\n",
        "curl -Lo coursier https://git.io/coursier-cli\n",
        "chmod +x coursier\n",
        "./coursier bootstrap \\\n",
        "    -r jitpack -r sonatype:snapshots \\\n",
        "    -i user -I user:sh.almond:scala-kernel-api_$SCALA_VERSION:$ALMOND_VERSION \\\n",
        "    sh.almond:scala-kernel_$SCALA_VERSION:$ALMOND_VERSION \\\n",
        "    --sources --default=true \\\n",
        "    -o almond-snapshot --embed-files=false\n",
        "rm coursier\n",
        "./almond-snapshot --install --global --force\n",
        "rm almond-snapshot"
      ],
      "execution_count": null,
      "outputs": []
    },
    {
      "cell_type": "code",
      "metadata": {
        "id": "BZchIo9sArF4",
        "colab": {
          "base_uri": "https://localhost:8080/"
        },
        "outputId": "1f132f8d-22a4-4eaa-fb73-cad97d39f011"
      },
      "source": [
        "%%shell\n",
        "echo \"{\n",
        "  \\\"language\\\" : \\\"scala\\\",\n",
        "  \\\"display_name\\\" : \\\"Scala\\\",\n",
        "  \\\"argv\\\" : [\n",
        "    \\\"bash\\\",\n",
        "    \\\"-c\\\",\n",
        "    \\\"env SCALAPY_PYTHON_LIBRARY=python3.6m java -Djna.library.path=/usr/lib/x86_64-linux-gnu/ -jar /usr/local/share/jupyter/kernels/scala/launcher.jar --connection-file {connection_file}\\\"\n",
        "  ]\n",
        "}\" > /usr/local/share/jupyter/kernels/scala/kernel.json"
      ],
      "execution_count": null,
      "outputs": [
        {
          "output_type": "execute_result",
          "data": {
            "text/plain": [
              ""
            ]
          },
          "metadata": {},
          "execution_count": 2
        }
      ]
    },
    {
      "cell_type": "markdown",
      "metadata": {
        "id": "rKC7qVeNERA0"
      },
      "source": [
        "## Types and Variables"
      ]
    },
    {
      "cell_type": "code",
      "metadata": {
        "id": "Y7F2-u0QGDol"
      },
      "source": [
        "// Declaring a variable\n",
        "{ \n",
        "val scalaVar: Int = 5\n",
        "}\n",
        "\n",
        "/* There are 2 keywords for variables; val and var.\n",
        "Variables of type \"val\" are immutable variables; while variables of type \"var\" are mutable variables. */"
      ],
      "execution_count": null,
      "outputs": []
    },
    {
      "cell_type": "code",
      "metadata": {
        "id": "oeT1bSv0NhO1"
      },
      "source": [
        "/* Printing in Scala is quite straight forward and there are three different methods you can use; \n",
        "\"print, println, printf\". */\n",
        "\n",
        "println(\"Number = %d\", 123)\n",
        "printf(\"Number = %d\", 123)"
      ],
      "execution_count": null,
      "outputs": []
    },
    {
      "cell_type": "code",
      "metadata": {
        "id": "TDwg-sLDOTTv"
      },
      "source": [
        "/* In Scala, every value has a type and each type is part of a type hierarchy, and at the top \n",
        "of the type hierarchy in Scala, we have type \"Any\" which has two subclasses, namely \"AnyVal\" and \"AnyRef\". \n",
        "\n",
        "Full hierarchy: https://www.geeksforgeeks.org/scala-type-hierarchy/\n",
        "\n",
        "We can assign \"Any\" a value of any type. Also, \"Unit\" type is like \"void\" or \"null\". On literals, a character\n",
        "might be added; such as Float = 1.2345F. Also Scala has type inference ability to infer types \n",
        "when not specified by the user. */\n",
        "\n",
        "{\n",
        "var anyEx: Any = \"A String\" //String\n",
        "println(anyEx)\n",
        "\n",
        "anyEx = 5 //Int\n",
        "println(anyEx)\n",
        "\n",
        "anyEx = '☺' //Char\n",
        "println(anyEx)\n",
        "}"
      ],
      "execution_count": null,
      "outputs": []
    },
    {
      "cell_type": "code",
      "metadata": {
        "id": "w5fePIR63Ljf"
      },
      "source": [
        "/* Not every data type can be converted to another. The type casting flow is:\n",
        "\n",
        "Byte -> Short -> Int -> Long -> Float -> Double\n",
        "                  ^\n",
        "                  |\n",
        "                Char\n",
        "\n",
        "For example, an Int can be converted to a Long, but a Long cannot be converted to an Int. */\n",
        "\n",
        "{\n",
        "val oldType: Long = 926371285\n",
        "val newType: Float = oldType\n",
        "// Invalid casting -> val newOldType: Long = newType\n",
        "\n",
        "println(oldType)\n",
        "println(newType)\n",
        "// Invalid casting -> println(newOldType)\n",
        "}"
      ],
      "execution_count": null,
      "outputs": []
    },
    {
      "cell_type": "markdown",
      "metadata": {
        "id": "vdlKXxSZ-x2s"
      },
      "source": [
        "## Operators"
      ]
    },
    {
      "cell_type": "code",
      "metadata": {
        "id": "8wo8X8piAPHo"
      },
      "source": [
        "/* Scala has two categories of functions: Built-in and User-defined functions. Example of usage of a built-in function; */\n",
        "\n",
        "{\n",
        "val str = \"Hello World\"\n",
        "val idx = str.indexOf('W')\n",
        "\n",
        "println(idx)\n",
        "}"
      ],
      "execution_count": null,
      "outputs": []
    },
    {
      "cell_type": "code",
      "metadata": {
        "id": "A926Bcb8A6tx"
      },
      "source": [
        "/* Scala supports two types of function calling, ordinary and by using operator notation.\n",
        "Ordinary: objectName.method(arguments)\n",
        "With operator notation: objectName method arguments */\n",
        "{\n",
        "val str = \"Hello World\"\n",
        "val idx = str indexOf 'W'\n",
        "\n",
        "println(idx)\n",
        "}"
      ],
      "execution_count": null,
      "outputs": []
    },
    {
      "cell_type": "code",
      "metadata": {
        "id": "WQQZpkToCIin"
      },
      "source": [
        "/* Scala provides five types of built-in operators (which are also methods):\n",
        "Arithmetic, Relational, Logical, Bitwise and Assignment Operators.\n",
        "Since they are also methods, they can be used in different ways */\n",
        "\n",
        "{\n",
        "val infix = 1+1\n",
        "val ordinary = 1.+(1)\n",
        "\n",
        "print(\"Using infix notation: \")\n",
        "println(infix)\n",
        "\n",
        "print(\"Using ordinary method call: \")\n",
        "println(ordinary)\n",
        "}"
      ],
      "execution_count": null,
      "outputs": []
    },
    {
      "cell_type": "code",
      "metadata": {
        "id": "f0vEfZjxDHtB"
      },
      "source": [
        "/* Dividing operator of arithmetic operators might cause confusion since they depend on the types */\n",
        "\n",
        "{\n",
        "val operand1 = 10\n",
        "val operand2 = 7\n",
        "val operand3 = 10F\n",
        "val operand4 = 7F\n",
        "\n",
        "println(operand1 / operand2)\n",
        "println(operand3 / operand4)\n",
        "}"
      ],
      "execution_count": null,
      "outputs": []
    },
    {
      "cell_type": "code",
      "metadata": {
        "id": "MSAqtq3lD78U"
      },
      "source": [
        "/* Bitwise operator can also be tricky, we need to keep in mind that they are different than logical operators.\n",
        "They are operators that perform operations on individual bits of integer types \n",
        "so they convert each decimal operand into its binary form, then applies logical operation based on bit order.*/\n",
        "\n",
        "{\n",
        "val A = true\n",
        "val B = false\n",
        "val C = 12\n",
        "val D = 5\n",
        "\n",
        "println(A && B)\n",
        "println(C & D)\n",
        "}"
      ],
      "execution_count": null,
      "outputs": []
    },
    {
      "cell_type": "markdown",
      "metadata": {
        "id": "Eeoqr12MFB1O"
      },
      "source": [
        "## Strings"
      ]
    },
    {
      "cell_type": "code",
      "metadata": {
        "id": "1FIYqFLAFFC0"
      },
      "source": [
        "/* Scala’s String is built on Java’s String with added unique features, so \n",
        "it is similar to strings in other programming languages. */\n",
        "\n",
        "{\n",
        "val string0 = \"Get the length of this string\" \n",
        "val string1 = \"Hello \"\n",
        "val string2 = \"World\"\n",
        "val float0 = 1.5F\n",
        "\n",
        "println(string0.length())\n",
        "println(string1 + string2)\n",
        "println(\"This is the floating point \" + float0)\n",
        "}"
      ],
      "execution_count": null,
      "outputs": []
    },
    {
      "cell_type": "markdown",
      "metadata": {
        "id": "UaSdNm_wefYD"
      },
      "source": [
        "### String Interpolation with \"s\", \"f\" and \"raw\""
      ]
    },
    {
      "cell_type": "code",
      "metadata": {
        "id": "VIbmku7qMIEX"
      },
      "source": [
        "/* String interpolation is the ability to create new strings or modify existing ones by embedding them with expressions.\n",
        "There are a total of three inbuilt interpolation methods: \"s\", \"f\", \"raw\".\n",
        "String interpolation with \"s\" allows us to use variables inside a string. */\n",
        "\n",
        "{\n",
        "val lang = \"Scala\"\n",
        "\n",
        "println(s\"I want to learn $lang!\")\n",
        "println(s\"3 + 4 = ${3 + 4}\")\n",
        "}"
      ],
      "execution_count": null,
      "outputs": []
    },
    {
      "cell_type": "code",
      "metadata": {
        "id": "EA2F0zdkNULw"
      },
      "source": [
        "/* The f string interpolator is Scala’s printf. \n",
        "String interpolation with \"f\" allows us to create formatted strings.\n",
        "Its syntax is f\"String $variableIdentifier %formatSpecifier String\" */\n",
        "{\n",
        "val pi = 3.14159F\n",
        "val width = 123\n",
        "val separator = 1000000\n",
        "val zeros = 1.23456F\n",
        "val justify = 12345\n",
        "\n",
        "println(f\"The value of pi is $pi%.2f\")\n",
        "println()\n",
        "println(f\"Not specifying the width: $width\")\n",
        "println(f\"Specifying the width: $width%10d\")\n",
        "println()\n",
        "println(f\"Not formatting: $separator\")\n",
        "println(f\"Formatting: $separator%,d\")\n",
        "println\n",
        "println(f\"Not formatting: $justify\")\n",
        "println(f\"Specifying the width: $justify%10d\")\n",
        "println(f\"With Flag: $justify%-10d\")\n",
        "}"
      ],
      "execution_count": null,
      "outputs": []
    },
    {
      "cell_type": "code",
      "metadata": {
        "id": "iXENi0a3VUBk"
      },
      "source": [
        "/* The raw interpolator is similar to the s interpolator, \n",
        "the only difference is that raw doesn’t recognize character literal escape sequences. */\n",
        "\n",
        "println(\"Without Raw:\\nFirst\\nSecond\")\n",
        "println()\n",
        "println(raw\"With Raw:\\nFirst\\nSecond\")"
      ],
      "execution_count": null,
      "outputs": []
    },
    {
      "cell_type": "markdown",
      "metadata": {
        "id": "b2wZC2Skemiy"
      },
      "source": [
        "### Working on Strings"
      ]
    },
    {
      "cell_type": "code",
      "metadata": {
        "id": "hzKUZb6gYIkd"
      },
      "source": [
        "/* When strings are equal, it simply means that both strings are \n",
        "composed of the same characters in the same order, i.e., they are identical. */\n",
        "\n",
        "{\n",
        "val string1 = \"Scala\"\n",
        "val string2 = \"scala\"\n",
        "val equality = string1 == string2\n",
        "val methodCompare = string1.equals(string2)\n",
        "val ignoreCase = string1.equalsIgnoreCase(string2)\n",
        "val equalUpper = string1.toUpperCase == string2.toUpperCase\n",
        "\n",
        "println(s\"Comparing the strings directly: $equality\")\n",
        "println(s\"Comparing the strings using a method: $methodCompare\")\n",
        "println(s\"Comparing the strings by ignoring case: $ignoreCase\")\n",
        "println(s\"Comparing the strings using upper or lower case: $equalUpper\")\n",
        "}"
      ],
      "execution_count": null,
      "outputs": []
    },
    {
      "cell_type": "code",
      "metadata": {
        "id": "ObsidtnaaJ_K"
      },
      "source": [
        "/* To split strings, you can use the split method to split at specific separators such as commas. \n",
        "\"split\" converts a string into an array of String elements and returns that array. */\n",
        "\n",
        "{\n",
        "val langs = \"Java,Scala,Python,SQL,Golang\".split(\",\")\n",
        "\n",
        "// Using foreach to return the elements of the result array, which are split strings.\n",
        "langs.foreach(println)\n",
        "// Did you notice this is also a method, as we talked previously.\n",
        "}"
      ],
      "execution_count": null,
      "outputs": []
    },
    {
      "cell_type": "code",
      "metadata": {
        "id": "Q2tESQu-dCGN"
      },
      "source": [
        "/* To find a particular sequence of characters in a string; we need to use regular expressions.\n",
        "A regular expression is defined as “a sequence of symbols and characters expressing a string \n",
        "or pattern to be searched for within a longer string”. Regular expressions in Scala need to \n",
        "include the extension \".r\" after the expression.\n",
        "\n",
        "To see a full list of subexpressions visit https://www.geeksforgeeks.org/regular-expressions-in-scala/ \n",
        "\n",
        "There are also some methods to help us finding patters with regex such as findFirstIn, findAllIn, \n",
        "replaceFirst, replaceFirstIn, replaceAll, replaceAllIn etc. */\n",
        "\n",
        "{\n",
        "val toFind = \"me\".r\n",
        "val numFind = \"[1-5]\".r\n",
        "val numFindCount = \"[1-5]{2}+\".r\n",
        "val allstar = \"somebody once told me the world is gonna roll me\"\n",
        "val numStr = \"12 67 93 48 51\"\n",
        "\n",
        "val match1 = toFind.findFirstIn(allstar)\n",
        "val match2 = toFind.findAllIn(allstar)\n",
        "val match3 = numFind.findAllIn(numStr)\n",
        "val match4 = numFindCount.findAllIn(numStr)\n",
        "val firstReplaced = allstar.replaceFirst(\"me\", \"ME\")\n",
        "val allReplaced = toFind.replaceAllIn(allstar,\"ME\")\n",
        "\n",
        "match1.foreach(println)\n",
        "println()\n",
        "match2.foreach(println)\n",
        "println()\n",
        "match3.foreach(println)\n",
        "println()\n",
        "match4.foreach(println)\n",
        "println()\n",
        "println(firstReplaced)\n",
        "println(allReplaced)\n",
        "}"
      ],
      "execution_count": null,
      "outputs": []
    },
    {
      "cell_type": "markdown",
      "metadata": {
        "id": "Kw0NoerA0Pmf"
      },
      "source": [
        "## Collection Library"
      ]
    },
    {
      "cell_type": "markdown",
      "metadata": {
        "id": "IvWvKkRHnuiG"
      },
      "source": [
        "The collection library has a hierarchical structure. At the top of the library, there are three main categories of collection classes \n",
        "under which different collections lie: Sequences - Seq, Sets - Set, Maps - Map. All three classes contain both mutable and immutable collections.\n",
        "\n",
        "- Seq class collections store elements at fixed index positions and since each element has a specified location in the sequence, they can be located easily.\n",
        "- Set class collections contain sets of elements with no element existing more than once, i.e, no duplicates.\n",
        "- Map class collections consist of pairs of keys and values with each value being associated with a unique key, like a dictionary on Python.\n",
        "\n",
        "For a detailed tree view, check this website: https://howtoscala.wordpress.com/2016/11/28/collections-in-scala-2/"
      ]
    },
    {
      "cell_type": "code",
      "metadata": {
        "id": "FBA_6moN7k_7"
      },
      "source": [
        "/* To see the difference between these three types of collections, we can look at how each \n",
        "collection implements some methods; such as \"apply\": */\n",
        "\n",
        "{\n",
        "val seqCollection = Seq(2,4,6,8)\n",
        "val setCollection = Set(\"apple\", \"orange\", \"banana\", \"grape\")\n",
        "val mapCollection = Map((\"a\",25),(\"b\",50),(\"c\",75))\n",
        "\n",
        "val seqResult = seqCollection.apply(1) // Gets the element of given index\n",
        "val setResult = setCollection.apply(\"orange\") // Checks if exists\n",
        "val mapResult = mapCollection.apply(\"c\") // Gets the value of given key\n",
        "\n",
        "println(seqResult)\n",
        "println(setResult)\n",
        "println(mapResult)\n",
        "}"
      ],
      "execution_count": null,
      "outputs": []
    },
    {
      "cell_type": "markdown",
      "metadata": {
        "id": "O3aXxRBpJR1P"
      },
      "source": [
        "### Linear Seq: List"
      ]
    },
    {
      "cell_type": "code",
      "metadata": {
        "id": "8_-IY3kcEk4O"
      },
      "source": [
        "/* A \"List\" is a linear Seq class collection and it is an immutable, hence the original List \n",
        "does not get updated when modified, rather, a new List is created. It stores elements of the same type. */\n",
        "\n",
        "{\n",
        "val listConst = List(\"orange\", \"banana\", \"apple\", \"grape\")\n",
        "val listRange = List.range(1, 5)\n",
        "val listFill = List.fill(3)(\"fillinggg!!\")\n",
        "\n",
        "listConst.foreach(println)\n",
        "println()\n",
        "listRange.foreach(println)\n",
        "println()\n",
        "listFill.foreach(println)\n",
        "}"
      ],
      "execution_count": null,
      "outputs": []
    },
    {
      "cell_type": "code",
      "metadata": {
        "id": "qBeMpZ5JIKdu"
      },
      "source": [
        "/* \"::\" is cons method and it takes two arguments; the first argument is the head and is a single element and the second argument is a tail which is another List. \n",
        "\"nil\" is used to represent an empty List and is always used when constructing a List with \"::\" */\n",
        "\n",
        "{\n",
        "val list1 = \"orange\"::\"banana\"::\"apple\"::\"grape\"::Nil\n",
        "val list2 = \"orange\"::List(\"banana\",\"apple\",\"grape\")\n",
        "val list3 = list2 :+ \"peach\"\n",
        "val list4 = \"watermelon\"::list3 // \"watermelon\" +: list3\n",
        "\n",
        "list1.foreach(println)\n",
        "println()\n",
        "list2.foreach(println)\n",
        "println()\n",
        "list3.foreach(println)\n",
        "println()\n",
        "list4.foreach(println)\n",
        "}"
      ],
      "execution_count": null,
      "outputs": []
    },
    {
      "cell_type": "code",
      "metadata": {
        "id": "KvL0nnkIJ-KC"
      },
      "source": [
        "/* We can create a new List and simply merge the new List with the old one. It is done using the \":::\" method. \n",
        "Also we can use the head and tail method to get the head and tail of a list. But the tail does not refer to the last element, \n",
        "rather, it refers to the remaining list after the head. This is why the tail returns a list. */\n",
        "{\n",
        "val list1 = \"orange\"::\"banana\"::\"apple\"::\"grape\"::Nil\n",
        "val list2 = \"pear\"::\"apricot\"::Nil\n",
        "val list3 = list1 ::: list2\n",
        "\n",
        "val getHead = list3.head\n",
        "val getTail = list3.tail\n",
        "\n",
        "list3.foreach(println)\n",
        "println()\n",
        "println(getHead)\n",
        "println()\n",
        "println(getTail)\n",
        "}\n",
        "\n",
        "/* List’s mutable counterpart collection is ListBuffer. It works like a List but can be updated inplace instead of creating a new list. \n",
        "It is common practice to convert a ListBuffer into a List when you are done manipulating the elements. */"
      ],
      "execution_count": null,
      "outputs": []
    },
    {
      "cell_type": "markdown",
      "metadata": {
        "id": "rDsBc_20LlIh"
      },
      "source": [
        "### Indexed Seq: Array"
      ]
    },
    {
      "cell_type": "code",
      "metadata": {
        "id": "lq3awjtMLpI-"
      },
      "source": [
        "/* Arrays are sequence class collections and they are a mutable, hence, when elements in an array are modified the original array is updated. \n",
        "However, one-way arrays are also immutable as the size of the array cannot change. */\n",
        "{\n",
        "val intArray = Array(1,2,3,4,5) \n",
        "val nullWithLength = new Array[String](3)\n",
        "nullWithLength(0) = \"scala\"\n",
        "\n",
        "intArray.foreach(println)\n",
        "println()\n",
        "nullWithLength.foreach(println)\n",
        "}"
      ],
      "execution_count": null,
      "outputs": []
    },
    {
      "cell_type": "code",
      "metadata": {
        "id": "uKkQJOO6PObx"
      },
      "source": [
        "/* They also can be used with some methods such as \"filter\", \"map\", \"reverse\", \"range\", \"fill\", \"toArray\" etc. */\n",
        "{\n",
        "val intArray = Array.range(0, 7) // 0, 1, 2, 3, 4, 5, 6\n",
        "val evenArray = intArray.filter(_ % 2 == 0) // 0, 2, 4, 6\n",
        "val doubleArray = evenArray.map(_ * 2) // 0, 4, 8, 12\n",
        "val finalArray = doubleArray.reverse // 12, 8, 4, 0\n",
        "\n",
        "val array3 = Array.fill(2)(\"scala\")\n",
        "val array4 = array3.toArray \n",
        "\n",
        "val item1 = finalArray(1)\n",
        "val len = finalArray.length\n",
        "\n",
        "finalArray.foreach(println)\n",
        "println()\n",
        "array4.foreach(println)\n",
        "println()\n",
        "println(item1, len)\n",
        "}"
      ],
      "execution_count": null,
      "outputs": []
    },
    {
      "cell_type": "code",
      "metadata": {
        "id": "4x9kT9scahu7"
      },
      "source": [
        "/* ArrayBuffers are very similar to arrays with the difference that you can add and remove elements from an ArrayBuffer \n",
        "while adding and removing elements is not possible in simple Arrays. */\n",
        "{\n",
        "import scala.collection.mutable.ArrayBuffer\n",
        "\n",
        "// val anArrayBuffer = ArrayBuffer(1,2,3,4,5)   -> initialize with length and values\n",
        "val emptyArrayBuff = new ArrayBuffer[Int]()\n",
        "\n",
        "emptyArrayBuff += 6\n",
        "emptyArrayBuff += 15\n",
        "emptyArrayBuff += 78\n",
        "emptyArrayBuff -= 78\n",
        "emptyArrayBuff.remove(0) // Remove the element at the 0th index\n",
        "// emptyArrayBuff.clear()   -> removes all elements\n",
        "\n",
        "emptyArrayBuff.foreach(println)\n",
        "}"
      ],
      "execution_count": null,
      "outputs": []
    },
    {
      "cell_type": "markdown",
      "metadata": {
        "id": "9T2l6HNEb0nS"
      },
      "source": [
        "### Indexed Seq: Others"
      ]
    },
    {
      "cell_type": "code",
      "metadata": {
        "id": "SUXIrCx0b3lX"
      },
      "source": [
        "/* Vectors are another immutable collection of sequence type. Unlike lists, Vectors provide efficient access \n",
        "when you want to manipulate elements beyond the head. Lists should be used when you only plan to manipulate the head element (first element). */\n",
        "{\n",
        "val emptyVector = Vector.empty\n",
        "\n",
        "val numVector = Vector(1,2,3,4,5)\n",
        "val numVector2 = numVector :+ 6\n",
        "val numVector3 = 0 +: numVector2\n",
        "val tempVector = Vector(7,8)\n",
        "val numVector4 = numVector3 ++ tempVector\n",
        "\n",
        "numVector4.foreach(println)\n",
        "}"
      ],
      "execution_count": null,
      "outputs": []
    },
    {
      "cell_type": "code",
      "metadata": {
        "id": "H2Fqxud7dd9Q"
      },
      "source": [
        "/* A Range is also a collection in itself. It is an ordered sequence of integers with the integers \n",
        "being equally spread apart from one another by an equal interval. */\n",
        "{\n",
        "val oddRange = 1 to 10 by 2\n",
        "val notLast = 1 until 4\n",
        "\n",
        "oddRange.foreach(println)\n",
        "println()\n",
        "notLast.foreach(println)\n",
        "}"
      ],
      "execution_count": null,
      "outputs": []
    },
    {
      "cell_type": "markdown",
      "metadata": {
        "id": "vJ2OvAqqLFCv"
      },
      "source": [
        "## Control Structures"
      ]
    },
    {
      "cell_type": "markdown",
      "metadata": {
        "id": "8E8UaCz_LpUs"
      },
      "source": [
        "### if "
      ]
    },
    {
      "cell_type": "code",
      "metadata": {
        "id": "Zu-t1OXPLtQe"
      },
      "source": [
        "// Basic syntax of if structure is;\n",
        "{{\n",
        "var langs = Array(\"go\",\"java\",\"python\",\"sql\")\n",
        "\n",
        "if (!langs.isEmpty) {\n",
        "  langs(0) = \"scala\"\n",
        "}\n",
        "\n",
        "langs.foreach(println) \n",
        "}}"
      ],
      "execution_count": null,
      "outputs": []
    },
    {
      "cell_type": "code",
      "metadata": {
        "id": "-niB7N9SUhna"
      },
      "source": [
        "// We can take an input an optimize this structure\n",
        "{\n",
        "val input = scala.io.StdIn.readLine()\n",
        "\n",
        "val fileName = if (!input.isEmpty) input else \"Default File\"\n",
        "\n",
        "println(fileName)\n",
        "}"
      ],
      "execution_count": null,
      "outputs": []
    },
    {
      "cell_type": "markdown",
      "metadata": {
        "id": "1e05igxU67VT"
      },
      "source": [
        "### while"
      ]
    },
    {
      "cell_type": "code",
      "metadata": {
        "id": "aFhvQ3La683L"
      },
      "source": [
        "/* The syntax of \"while\" is pretty straight forward like \"if\". This time, the loop will occur \n",
        "until the condition is not fulfilled in which case the compiler will exit the block of code. */\n",
        "{\n",
        "var count = 1\n",
        "while (count <= 5) {\n",
        "  print(count + \" \")\n",
        "  count += 1\n",
        "}\n",
        "}"
      ],
      "execution_count": null,
      "outputs": []
    },
    {
      "cell_type": "code",
      "metadata": {
        "id": "Ro9iTIKx7m6a"
      },
      "source": [
        "/* Scala also has a do-while loop which works exactly like the while loop with one added difference that it executes the \n",
        "block of code before checking the condition. do-while ensures that the code in the curly brackets {} will execute at least once. */\n",
        "{\n",
        "val alwaysOne = 1\n",
        "do {\n",
        "  println(s\"Using do-while: $alwaysOne\")\n",
        "} while (alwaysOne!= 1)\n",
        "}\n",
        "\n",
        "// We would not get an output if we used while instead of do-while."
      ],
      "execution_count": null,
      "outputs": []
    },
    {
      "cell_type": "markdown",
      "metadata": {
        "id": "04fxnS6-8V8f"
      },
      "source": [
        "### for"
      ]
    },
    {
      "cell_type": "code",
      "metadata": {
        "id": "jDFC9q-48Xj8"
      },
      "source": [
        "// There are multiple forms and multiple ways to write for the \"for\" expression.\n",
        "{\n",
        "for (i <- 1 to 5) {\n",
        "  println(s\"Number is $i\")\n",
        "}\n",
        "}"
      ],
      "execution_count": null,
      "outputs": []
    },
    {
      "cell_type": "code",
      "metadata": {
        "id": "h57L3hL98_55"
      },
      "source": [
        "// We can pick an item for an array and create a loop for it.\n",
        "{\n",
        "val langs = Array(\"scala\",\"java\",\"python\",\"sql\")\n",
        "\n",
        "for (lang <- langs) {\n",
        "  print(lang.capitalize + \" \") // We can also work around the item as well\n",
        "}  \n",
        "}"
      ],
      "execution_count": null,
      "outputs": []
    },
    {
      "cell_type": "code",
      "metadata": {
        "id": "BLTUz9Tw_qzD"
      },
      "source": [
        "// To obtain the return value of a for expression, we can use the \"yield\" expression.\n",
        "{\n",
        "val langs = Array(\"scala\",\"java\",\"python\",\"sql\")\n",
        "\n",
        "val upperLangs = \n",
        "  for(lang <- langs)\n",
        "    yield lang.toUpperCase\n",
        "      \n",
        "for (upperLang <- upperLangs)\n",
        "  print(upperLang + \" \")\n",
        "}"
      ],
      "execution_count": null,
      "outputs": []
    },
    {
      "cell_type": "code",
      "metadata": {
        "id": "lwAHt-lVAP0Z"
      },
      "source": [
        "// We can filter \"for\" generator with an if expression.\n",
        "{\n",
        "val intArray = Array(1,2,3,4,5,6,7,8,9,10)\n",
        "\n",
        "val evenArray =\n",
        "  for (element <- intArray if element % 2 == 0)\n",
        "    yield element\n",
        "\n",
        "for(i <- evenArray)\n",
        "  print(i + \" \")\n",
        "}"
      ],
      "execution_count": null,
      "outputs": []
    },
    {
      "cell_type": "markdown",
      "metadata": {
        "id": "gbLT09oKAfOb"
      },
      "source": [
        "### try"
      ]
    },
    {
      "cell_type": "code",
      "metadata": {
        "colab": {
          "base_uri": "https://localhost:8080/"
        },
        "id": "d_BJOWLPA-uP",
        "outputId": "1145a532-7f35-49ed-ecd9-58abf9acbd1c"
      },
      "source": [
        "/* \"try\" is used to try particular parts of a code that might throw exceptions. If an exception is thrown, \n",
        "it is caught using \"catch\". Scala reuses Java’s exceptions. */\n",
        "{\n",
        "try { \n",
        "  val quotient = 10/0\n",
        "  println(quotient)\n",
        "}\n",
        "catch {\n",
        "  case ex: ArithmeticException => println(\"Dividing by zero is not allowed\")\n",
        "}\n",
        "}"
      ],
      "execution_count": null,
      "outputs": [
        {
          "output_type": "stream",
          "name": "stdout",
          "text": [
            "Dividing by zero is not allowed\n"
          ]
        }
      ]
    },
    {
      "cell_type": "markdown",
      "metadata": {
        "id": "GAok1E5cDCr_"
      },
      "source": [
        "### match"
      ]
    },
    {
      "cell_type": "code",
      "metadata": {
        "id": "pF9uAIMiDOmA"
      },
      "source": [
        "/* Pattern matching is done using the match expression. It is evaluated by taking the object to be \n",
        "matched and comparing it with each pattern in the order they are listed. The first pattern to match \n",
        "the object expression is selected and the corresponding expression is evaluated. */\n",
        "{\n",
        "val lang = scala.io.StdIn.readLine()\n",
        "\n",
        "lang match {\n",
        "  case \"scala\" => println(\"it's java right?\")\n",
        "  case \"python\" => println(\"yeah i'm a data scientist too\")\n",
        "  case \"sql\" => println(\"select from where must be all of it\")\n",
        "  case _ => println(\"i didn't know that lang existed\") // _ is a wildcard which matches with any object.\n",
        "}\n",
        "}"
      ],
      "execution_count": null,
      "outputs": []
    },
    {
      "cell_type": "code",
      "metadata": {
        "id": "yqoGvF93Ep8t"
      },
      "source": [
        "// We can bind the object to a variable.\n",
        "{\n",
        "val ninePlusTen = 21\n",
        "\n",
        "ninePlusTen match {\n",
        "  case vineKid  => println(s\"It now equals to $vineKid, magic...\")\n",
        "}\n",
        "}"
      ],
      "execution_count": null,
      "outputs": []
    },
    {
      "cell_type": "code",
      "metadata": {
        "id": "YYEvMMc2FXSn"
      },
      "source": [
        "// We can match patterns with a sequence type collection such as an Array or a List.\n",
        "{\n",
        "val sequencePattern = Array(1,2,3)\n",
        "\n",
        "sequencePattern match {\n",
        "  case Array(0,_,_)  => println(\"case1\")\n",
        "  case Array(1,_,_)  => println(\"case2\")\n",
        "  case Array(_,_,0)  => println(\"case3\")\n",
        "  case _ => println(\"default\")\n",
        "}\n",
        "}"
      ],
      "execution_count": null,
      "outputs": []
    },
    {
      "cell_type": "markdown",
      "metadata": {
        "id": "BxDOHiOIF57o"
      },
      "source": [
        "## Functions"
      ]
    },
    {
      "cell_type": "code",
      "metadata": {
        "id": "OUh7ZNaoGL6b"
      },
      "source": [
        "// Other than the built-in functions, also known as methods, we can write our very own functions, which get to be user-defined functions.\n",
        "{\n",
        "def sum(x: Int, y: Int): Int = {\n",
        "  x+y\n",
        "}\n",
        "val total = sum(2,3)\n",
        "\n",
        "println(total)\n",
        "}"
      ],
      "execution_count": null,
      "outputs": []
    },
    {
      "cell_type": "markdown",
      "metadata": {
        "id": "E6z4FncBauWS"
      },
      "source": [
        "### Evaluation Strategies"
      ]
    },
    {
      "cell_type": "markdown",
      "metadata": {
        "id": "i4apRGFJTkIZ"
      },
      "source": [
        "Scala uses the substitution model for evaluating expressions. The model simply evaluates an expression by reducing it to a value and \n",
        "it is divided into two strategies: \"call-by-value\" and \"call-by-name\". CBV will evaluate every expression to its final value before \n",
        "calling the function, regardless of if the function body needs it or not. CBN, on the other hand, will only take the expressions \n",
        "required by the body of the function and pass them to the function just as you passed them.\n",
        "\n",
        "---\n",
        "***def func(int x, int y) = print(x)***\n",
        "\n",
        "***func(1+1, 1+2)***\n",
        "\n",
        "---\n",
        "\n",
        "In the example above, CBV starts evaluating by \"func(2,3)\", calculating y value even if it is not necessary. \n",
        "On the other hand, CBN starts evaluating by print(1+1) "
      ]
    },
    {
      "cell_type": "code",
      "metadata": {
        "id": "HpmoHWAGa6Kp"
      },
      "source": [
        "/* We can enforce a parameter to be evaluated using CBN by inserting => after the name of the parameter.\n",
        "If the CBV evaluation of an expression terminates, then the CBN evaluation of the same expression will also terminate.\n",
        "If the CBN evaluation of an expression terminates, then the CBV evaluation of the same expression is not guaranteed to terminate. */\n",
        "{\n",
        "def loop :Int = loop\n",
        "\n",
        "def accessFirst(x: Int, y: => Int) = x\n",
        "\n",
        "val result = accessFirst(1,loop)\n",
        "println(result)\n",
        "}\n",
        "/* In the example above, we enforced CBN by using \"=>\", so the code worked. Otherwise, it would get stuck in an \n",
        "infinite loop and you would get a runtime error \"Execution Timed Out!\"."
      ],
      "execution_count": null,
      "outputs": []
    },
    {
      "cell_type": "markdown",
      "metadata": {
        "id": "cOC9xd3FcnLQ"
      },
      "source": [
        "### Recursive Functions"
      ]
    },
    {
      "cell_type": "code",
      "metadata": {
        "id": "cBoI5y29cpXr"
      },
      "source": [
        "/* Recursion is the process of breaking down an expression into smaller expressions until you’re able to use the same \n",
        "algorithm to solve each expression, and recursive functions are functions which call themselves in their own function body. */\n",
        "{\n",
        "def factorial(x: Int) : Int = {\n",
        "  if(x == 1)\n",
        "    1\n",
        "  else\n",
        "    x * factorial(x-1)\n",
        "}\n",
        "\n",
        "print(factorial(4))\n",
        "}\n",
        "// The code works as: factorial(4 * factorial(3 * factorial(2 * factorial(1))))"
      ],
      "execution_count": null,
      "outputs": []
    },
    {
      "cell_type": "code",
      "metadata": {
        "id": "Ftx9j7T9ddI5"
      },
      "source": [
        "/* Recursion usually follows an if-else pattern but we can also implement recursive functions using \"match\". */\n",
        "{\n",
        "def factorial(x: Int) : Int =  x match{\n",
        "  case 1 => 1\n",
        "  case x => x * factorial(x-1)\n",
        "}\n",
        "\n",
        "print(factorial(4))\n",
        "}"
      ],
      "execution_count": null,
      "outputs": []
    },
    {
      "cell_type": "code",
      "metadata": {
        "id": "DW6lZuXGeAzb"
      },
      "source": [
        "/* A recursive call becomes a recursive tail call when the recursive function \n",
        "calls itself at the very end of the function body, i.e., the tail of the function. */\n",
        "{\n",
        "def gcd(x: Int, y: Int): Int = { //greatest common factor\n",
        "  if(y == 0) x else gcd(y, x%y)\n",
        "}\n",
        " println(gcd(14,21))\n",
        "}"
      ],
      "execution_count": null,
      "outputs": []
    },
    {
      "cell_type": "markdown",
      "metadata": {
        "id": "ioZvEhQ7wIHN"
      },
      "source": [
        "## Classes and Objects"
      ]
    },
    {
      "cell_type": "code",
      "metadata": {
        "id": "l2KyZmS5wTFl"
      },
      "source": [
        "/* Just like functions, we can write our own user-defined classes when built-in classes are not enough and create objects from them. */\n",
        "{\n",
        "class Person{\n",
        "  var name: String = \"default\"\n",
        "  var gender: String = \"default\"\n",
        "  var age: Int = 0\n",
        "\n",
        "  def walking = println(s\"$name is walking\")\n",
        "  def talking = println(s\"$name is talking\")\n",
        "}\n",
        "\n",
        "val aPerson = new Person\n",
        "aPerson.name = \"Kubilay\"\n",
        "aPerson.gender = \"male\"\n",
        "aPerson.age = 25\n",
        "\n",
        "println(aPerson.name)\n",
        "println(aPerson.gender)\n",
        "println(aPerson.age)\n",
        "aPerson.walking\n",
        "aPerson.talking\n",
        "\n",
        "}"
      ],
      "execution_count": null,
      "outputs": []
    },
    {
      "cell_type": "code",
      "metadata": {
        "id": "kWzNC_RByd-l"
      },
      "source": [
        "/* By default, the fields defined in a class are public. However, if you want to make \n",
        "sure that fields remain valid, it is better to prevent outsiders from accessing those fields. \n",
        "This is done by making the fields \"private\". Private fields can only be accessed by methods defined in the same class. */\n",
        "{\n",
        "class Person{\n",
        "  private var name: String = \"default\"\n",
        "  private var gender: String = \"default\"\n",
        "  private var age: Int = 0\n",
        "\n",
        "  def walking = println(s\"$name is walking\")\n",
        "\n",
        "  def talking = println(s\"$name is talking\")\n",
        "}\n",
        "\n",
        "val aPerson = new Person\n",
        "aPerson.name = \"Kubilay\"\n",
        "}\n",
        "/* This will throw an error because the object is outside of the class and the \"name\" field is a private property. */"
      ],
      "execution_count": null,
      "outputs": []
    },
    {
      "cell_type": "code",
      "metadata": {
        "id": "L8PXdGa7zjTF"
      },
      "source": [
        "/* We can pass arguments to a class the same way we can pass arguments to functions. \n",
        "They are known as constructor parameters as they are assigned a value when the object is constructed using a class. */\n",
        "{\n",
        "class Person(var name: String, var gender: String, var age: Int) {\n",
        "\n",
        "  private var years = 5\n",
        "    \n",
        "  def walking = println(s\"$name is walking\")\n",
        "  def talking = println(s\"$name is talking\")\n",
        "  def yearsFromNow = {\n",
        "    var newAge = years + age\n",
        "    println(s\"In $years years from now, $name will be $newAge, sad :(\")\n",
        "  }\n",
        "}\n",
        "\n",
        "val aPerson = new Person(\"Kubilay\", \"male\", 25)\n",
        "\n",
        "println(aPerson.name)\n",
        "println(aPerson.gender)\n",
        "println(aPerson.age)\n",
        "aPerson.walking\n",
        "aPerson.talking\n",
        "aPerson.yearsFromNow\n",
        "\n",
        "}\n",
        "/* \"yearsFromNow\" is a new method which calculates a new age and it can access the private field \"years\"., since it is a member of the class. */"
      ],
      "execution_count": null,
      "outputs": []
    }
  ]
}